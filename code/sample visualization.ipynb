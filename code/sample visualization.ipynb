{
 "cells": [
  {
   "cell_type": "markdown",
   "metadata": {},
   "source": [
    "# load mmm sample"
   ]
  },
  {
   "cell_type": "code",
   "execution_count": 1,
   "metadata": {},
   "outputs": [
    {
     "data": {
      "text/plain": [
       "('inline', 'module://ipykernel.pylab.backend_inline')\n"
      ]
     },
     "execution_count": 1,
     "metadata": {},
     "output_type": "execute_result"
    }
   ],
   "source": [
    "%include \"EnableIPythonDisplay.swift\"\n",
    "\n",
    "import PythonKit\n",
    "import Foundation\n",
    "import FoundationXML\n",
    "\n",
    "let np = Python.import(\"numpy\")\n",
    "let plt = Python.import(\"matplotlib.pyplot\")\n",
    "IPythonDisplay.shell.enable_matplotlib(\"inline\")"
   ]
  },
  {
   "cell_type": "code",
   "execution_count": 2,
   "metadata": {},
   "outputs": [],
   "source": [
    "%include \"Sources/MotionDataset/MotionFrame.swift\"\n",
    "%include \"Sources/MotionDataset/MotionDataset.swift\""
   ]
  },
  {
   "cell_type": "code",
   "execution_count": 3,
   "metadata": {},
   "outputs": [],
   "source": [
    "let fileURL = URL(fileURLWithPath: \"/notebooks/m2l.gt/data/2017-06-22/00002_mmm.xml\")\n",
    "let text = try String(contentsOf: fileURL, encoding: .utf8)\n",
    "let mmm_doc = try XMLDocument(data: text.data(using: .utf8)!, options: [])"
   ]
  },
  {
   "cell_type": "code",
   "execution_count": 4,
   "metadata": {},
   "outputs": [
    {
     "name": "stdout",
     "output_type": "stream",
     "text": [
      "[\"BLNx\", \"BLNy\", \"BLNz\", \"BPx\", \"BPy\", \"BPz\", \"BTx\", \"BTy\", \"BTz\", \"BUNx\", \"BUNy\", \"BUNz\", \"LAx\", \"LAy\", \"LAz\", \"LEx\", \"LEz\", \"LHx\", \"LHy\", \"LHz\", \"LKx\", \"LSx\", \"LSy\", \"LSz\", \"LWx\", \"LWy\", \"LFx\", \"LMrot\", \"RAx\", \"RAy\", \"RAz\", \"REx\", \"REz\", \"RHx\", \"RHy\", \"RHz\", \"RKx\", \"RSx\", \"RSy\", \"RSz\", \"RWx\", \"RWy\", \"RFx\", \"RMrot\"]\r\n"
     ]
    }
   ],
   "source": [
    "let jointNames = mmm_doc.nodes(forXPath: \"/MMM/Motion/JointOrder/Joint/@name\").map {$0.stringValue!.replacingOccurrences(of: \"_joint\", with: \"\")}\n",
    "print(jointNames)"
   ]
  },
  {
   "cell_type": "code",
   "execution_count": 5,
   "metadata": {},
   "outputs": [],
   "source": [
    "// TODO: create class that loads dataset and converts it\n",
    "// TODO: create api for saving the image"
   ]
  },
  {
   "cell_type": "code",
   "execution_count": 6,
   "metadata": {},
   "outputs": [],
   "source": [
    "// TODO: create struct for motion sample\n",
    "// TODO: add file loading\n",
    "// TODO: add annotations\n",
    "// TODO: add jointNames"
   ]
  },
  {
   "cell_type": "code",
   "execution_count": 7,
   "metadata": {},
   "outputs": [],
   "source": [
    "func getMotionFrames(mmm_doc: XMLDocument) -> [MotionFrame] {\n",
    "    var motionFrames: [MotionFrame] = []\n",
    "    for motionFrame in try! mmm_doc.nodes(forXPath: \"/MMM/Motion/MotionFrames/MotionFrame\") {\n",
    "        var mf = MotionFrame()\n",
    "        let tNode: [XMLNode] = try! motionFrame.nodes(forXPath:\"Timestep\")\n",
    "        mf.timestamp = Float(tNode[0].stringValue!)!\n",
    "        let jpNode: [XMLNode] = try! motionFrame.nodes(forXPath:\"JointPosition\")\n",
    "        let jointPosition: String = jpNode[0].stringValue!\n",
    "        mf.jointPositions = jointPosition.components(separatedBy: \" \").map{$0.floatValue}\n",
    "        motionFrames.append(mf)\n",
    "    }\n",
    "    return motionFrames\n",
    "}"
   ]
  },
  {
   "cell_type": "code",
   "execution_count": 8,
   "metadata": {
    "scrolled": false
   },
   "outputs": [
    {
     "data": {
      "text/plain": [
       "531\n"
      ]
     },
     "execution_count": 8,
     "metadata": {},
     "output_type": "execute_result"
    }
   ],
   "source": [
    "let motionFrames = getMotionFrames(mmm_doc: mmm_doc)\n",
    "motionFrames.count"
   ]
  },
  {
   "cell_type": "markdown",
   "metadata": {},
   "source": [
    "# visualize sample"
   ]
  },
  {
   "cell_type": "code",
   "execution_count": 9,
   "metadata": {},
   "outputs": [],
   "source": [
    "let time = np.array(motionFrames.map {$0.timestamp})\n",
    "let position = np.array(motionFrames.map {$0.jointPositions})"
   ]
  },
  {
   "cell_type": "code",
   "execution_count": 10,
   "metadata": {},
   "outputs": [
    {
     "data": {
      "text/plain": [
       "(531, 45)\n"
      ]
     },
     "execution_count": 10,
     "metadata": {},
     "output_type": "execute_result"
    }
   ],
   "source": [
    "position.shape"
   ]
  },
  {
   "cell_type": "code",
   "execution_count": 11,
   "metadata": {},
   "outputs": [
    {
     "data": {
      "image/png": "[encoded data removed]",
      "text/plain": [
       "<Figure size 360x360 with 1 Axes>"
      ]
     },
     "metadata": {},
     "output_type": "display_data"
    },
    {
     "data": {
      "text/plain": [
       "None\n"
      ]
     },
     "execution_count": 11,
     "metadata": {},
     "output_type": "execute_result"
    }
   ],
   "source": [
    "plt.figure(figsize: [5, 5])\n",
    "plt.imshow(position.T, interpolation: \"nearest\", extent: [0, 3, 0, 3], cmap: \"viridis\")\n",
    "plt.show()"
   ]
  },
  {
   "cell_type": "markdown",
   "metadata": {},
   "source": [
    "# group joints into sections of skeleton"
   ]
  },
  {
   "cell_type": "code",
   "execution_count": 12,
   "metadata": {},
   "outputs": [],
   "source": [
    "let groupedPosition = np.array(motionFrames.map {$0.grouppedJointPositions()})"
   ]
  },
  {
   "cell_type": "code",
   "execution_count": 13,
   "metadata": {},
   "outputs": [
    {
     "data": {
      "image/png": "[encoded data removed]",
      "text/plain": [
       "<Figure size 360x360 with 1 Axes>"
      ]
     },
     "metadata": {},
     "output_type": "display_data"
    },
    {
     "data": {
      "text/plain": [
       "None\n"
      ]
     },
     "execution_count": 13,
     "metadata": {},
     "output_type": "execute_result"
    }
   ],
   "source": [
    "plt.figure(figsize: [5, 5])\n",
    "plt.imshow(groupedPosition.T, interpolation: \"nearest\", extent: [0, 3, 0, 3], cmap: \"viridis\")\n",
    "plt.show()"
   ]
  },
  {
   "cell_type": "code",
   "execution_count": null,
   "metadata": {},
   "outputs": [],
   "source": []
  }
 ],
 "metadata": {
  "kernelspec": {
   "display_name": "Swift",
   "language": "swift",
   "name": "swift"
  },
  "language_info": {
   "file_extension": ".swift",
   "mimetype": "text/x-swift",
   "name": "swift",
   "version": ""
  }
 },
 "nbformat": 4,
 "nbformat_minor": 2
}
